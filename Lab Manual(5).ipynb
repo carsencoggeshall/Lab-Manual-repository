{
 "metadata": {
  "name": "Lab Manual"
 },
 "nbformat": 3,
 "nbformat_minor": 0,
 "worksheets": [
  {
   "cells": [
    {
     "cell_type": "heading",
     "level": 2,
     "metadata": {},
     "source": "Welcome to MPCR's Lab Manual!"
    },
    {
     "cell_type": "raw",
     "metadata": {},
     "source": "This is a great place to get started if you want to know about the basics of python and how to operate the rover."
    },
    {
     "cell_type": "heading",
     "level": 2,
     "metadata": {},
     "source": "Section 1: Hello Git"
    },
    {
     "cell_type": "markdown",
     "metadata": {},
     "source": "Let's start things off really easy. To print text in python, simply write \"print\" and then \"your text inside quotes\". Like so:"
    },
    {
     "cell_type": "code",
     "collapsed": false,
     "input": "print \"Hello World!\"",
     "language": "python",
     "metadata": {},
     "outputs": [
      {
       "output_type": "stream",
       "stream": "stdout",
       "text": "Hello World!\n"
      }
     ],
     "prompt_number": 4
    },
    {
     "cell_type": "markdown",
     "metadata": {},
     "source": "\n\nTo add comments within the code, use # before the text."
    },
    {
     "cell_type": "code",
     "collapsed": false,
     "input": "# this is the first comment\nspam = 1  # and this is the second comment\n  # ... and now a third!\ntext = \"# This is not a comment because it's inside quotes.\"",
     "language": "python",
     "metadata": {},
     "outputs": [],
     "prompt_number": 5
    },
    {
     "cell_type": "markdown",
     "metadata": {},
     "source": "\n\nNow let's get familiar with the common mathematical operations used in python."
    },
    {
     "cell_type": "code",
     "collapsed": false,
     "input": "print 2 + 2         \nprint 50 - 5*6\nprint (50 - 5.0*6) / 4\nprint 8 / 5.0\nprint 17 / 3        # int / int -> int\nprint 17 / 3.0      # int / float -> float\nprint 17 // 3.0     # explicit floor division discards the fractional part\nprint 17 % 3        # the % operator returns the remainder of the division\nprint 5 * 3 + 2     # result * divisor + remainder\nprint 5 ** 2        # 5 squared\nprint 2 ** 7        # 2 to the power of 7\n",
     "language": "python",
     "metadata": {},
     "outputs": [
      {
       "output_type": "stream",
       "stream": "stdout",
       "text": "4\n20\n5.0\n1.6\n5\n5.66666666667\n5.0\n2\n17\n25\n128\n"
      }
     ],
     "prompt_number": 6
    },
    {
     "cell_type": "markdown",
     "metadata": {},
     "source": "\n\nThe equal sign (=) is used to assign a value to a variable. Afterwards, no result is displayed before the next interactive prompt:"
    },
    {
     "cell_type": "code",
     "collapsed": false,
     "input": "width = 20\nheight = 5 * 9\nprint width * height",
     "language": "python",
     "metadata": {},
     "outputs": [
      {
       "output_type": "stream",
       "stream": "stdout",
       "text": "900\n"
      }
     ],
     "prompt_number": 7
    },
    {
     "cell_type": "code",
     "collapsed": false,
     "input": "i = 256*256\nprint 'The value of i is', i",
     "language": "python",
     "metadata": {},
     "outputs": [
      {
       "output_type": "stream",
       "stream": "stdout",
       "text": "The value of i is 65536\n"
      }
     ],
     "prompt_number": 8
    },
    {
     "cell_type": "markdown",
     "metadata": {},
     "source": "\n\n\nWe're ready to make something pretty neat: the Fibonacci Sequence. In this sequence the sum of the two previous numbers equals the following number."
    },
    {
     "cell_type": "code",
     "collapsed": false,
     "input": "a, b = 0, 1   # set a = 0 and b = 1\nwhile b < 100:  # runs the indented code provided that b is less than 100\n\tprint b  # display the value of b\n        a, b = b, a+b  # a is now equal to b, and b is now equal to the sum of a and b\n\t\t       # the process is repeated, restarting with the new a and b values, until b is more than 100",
     "language": "python",
     "metadata": {},
     "outputs": [
      {
       "output_type": "stream",
       "stream": "stdout",
       "text": "1\n1\n2\n3\n5\n8\n13\n21\n34\n55\n89\n"
      }
     ],
     "prompt_number": 9
    },
    {
     "cell_type": "markdown",
     "metadata": {},
     "source": "\n\nTime to start working with a package called \"numpy\". Numpy has other functions \u2013 ones that don't come standard with python \u2013 already defined and we can make use of them."
    },
    {
     "cell_type": "markdown",
     "metadata": {},
     "source": "Import the numpy package under the name np. This makes it easier when we call a function from numpy.  "
    },
    {
     "cell_type": "code",
     "collapsed": false,
     "input": "import numpy as np",
     "language": "python",
     "metadata": {},
     "outputs": [],
     "prompt_number": 10
    },
    {
     "cell_type": "raw",
     "metadata": {},
     "source": "\nCreate a null vector of size 10."
    },
    {
     "cell_type": "code",
     "collapsed": false,
     "input": "import numpy as np\nZ = np.zeros(10)\nprint(Z)",
     "language": "python",
     "metadata": {},
     "outputs": [
      {
       "output_type": "stream",
       "stream": "stdout",
       "text": "[ 0.  0.  0.  0.  0.  0.  0.  0.  0.  0.]\n"
      }
     ],
     "prompt_number": 11
    },
    {
     "cell_type": "raw",
     "metadata": {},
     "source": "\nCreate a null vector of size 10 but the fifth value which is 1."
    },
    {
     "cell_type": "code",
     "collapsed": false,
     "input": "import numpy as np\nZ = np.zeros(10)  # begin with a null vector\nZ[4] = 1  # redefine the fifth value to be 1\nprint(Z)",
     "language": "python",
     "metadata": {},
     "outputs": [
      {
       "output_type": "stream",
       "stream": "stdout",
       "text": "[ 0.  0.  0.  0.  1.  0.  0.  0.  0.  0.]\n"
      }
     ],
     "prompt_number": 12
    },
    {
     "cell_type": "raw",
     "metadata": {},
     "source": "\nCreate a vector with values ranging from 10 to 49."
    },
    {
     "cell_type": "code",
     "collapsed": false,
     "input": "import numpy as np\nZ = np.arange(10,50)\nprint(Z)",
     "language": "python",
     "metadata": {},
     "outputs": [
      {
       "output_type": "stream",
       "stream": "stdout",
       "text": "[10 11 12 13 14 15 16 17 18 19 20 21 22 23 24 25 26 27 28 29 30 31 32 33 34\n 35 36 37 38 39 40 41 42 43 44 45 46 47 48 49]\n"
      }
     ],
     "prompt_number": 13
    },
    {
     "cell_type": "raw",
     "metadata": {},
     "source": "\nCreate a 3x3 matrix with values ranging from 0 to 8"
    },
    {
     "cell_type": "code",
     "collapsed": false,
     "input": "import numpy as np\nZ = np.arange(9).reshape(3,3)  # arrange lists the values 0 to 8\nprint(Z)\t\t               # reshape forms a new line after every 3 terms, resulting in the 3x3 matrix",
     "language": "python",
     "metadata": {},
     "outputs": [
      {
       "output_type": "stream",
       "stream": "stdout",
       "text": "[[0 1 2]\n [3 4 5]\n [6 7 8]]\n"
      }
     ],
     "prompt_number": 14
    },
    {
     "cell_type": "raw",
     "metadata": {},
     "source": "\nFind indices of non-zero elements from [1,2,0,0,4,0]"
    },
    {
     "cell_type": "code",
     "collapsed": false,
     "input": "import numpy as np\nnz = np.nonzero([1,2,0,0,4,0])\nprint(nz)",
     "language": "python",
     "metadata": {},
     "outputs": [
      {
       "output_type": "stream",
       "stream": "stdout",
       "text": "(array([0, 1, 4]),)\n"
      }
     ],
     "prompt_number": 15
    },
    {
     "cell_type": "raw",
     "metadata": {},
     "source": "\nCreate a 3x3 identity matrix. \nIdentity matrix: a square matrix with ones on the diagonal (from top-left to bottom-right) and zeros elsewhere"
    },
    {
     "cell_type": "code",
     "collapsed": false,
     "input": "import numpy as np\nZ = np.eye(3) \nprint(Z)",
     "language": "python",
     "metadata": {},
     "outputs": [
      {
       "output_type": "stream",
       "stream": "stdout",
       "text": "[[ 1.  0.  0.]\n [ 0.  1.  0.]\n [ 0.  0.  1.]]\n"
      }
     ],
     "prompt_number": 16
    },
    {
     "cell_type": "raw",
     "metadata": {},
     "source": "\nCreate a 5x5 matrix with values 1,2,3,4 just below the diagonal"
    },
    {
     "cell_type": "code",
     "collapsed": false,
     "input": "import numpy as np\nZ = np.diag(1+np.arange(4),k=-1)\nprint(Z)",
     "language": "python",
     "metadata": {},
     "outputs": [
      {
       "output_type": "stream",
       "stream": "stdout",
       "text": "[[0 0 0 0 0]\n [1 0 0 0 0]\n [0 2 0 0 0]\n [0 0 3 0 0]\n [0 0 0 4 0]]\n"
      }
     ],
     "prompt_number": 17
    },
    {
     "cell_type": "raw",
     "metadata": {},
     "source": "\nCreate a 3x3x3 array with random values"
    },
    {
     "cell_type": "code",
     "collapsed": false,
     "input": "import numpy as np\nZ = np.random.random((3,3,3))\nprint(Z)",
     "language": "python",
     "metadata": {},
     "outputs": [
      {
       "output_type": "stream",
       "stream": "stdout",
       "text": "[[[ 0.78285706  0.09114526  0.02472908]\n  [ 0.8159379   0.37550726  0.24152478]\n  [ 0.6372072   0.91378286  0.78689393]]\n\n [[ 0.73679038  0.85933101  0.6378954 ]\n  [ 0.05226338  0.81871108  0.86718285]\n  [ 0.54995234  0.80078259  0.83176261]]\n\n [[ 0.36417593  0.67948091  0.12150227]\n  [ 0.0285599   0.27063121  0.65221006]\n  [ 0.09010036  0.85225833  0.58153391]]]\n"
      }
     ],
     "prompt_number": 18
    },
    {
     "cell_type": "raw",
     "metadata": {},
     "source": "\nCreate a 8x8 matrix and fill it with a checkerboard pattern"
    },
    {
     "cell_type": "code",
     "collapsed": false,
     "input": "import numpy as np\nZ = np.zeros((8,8),dtype=int)\nZ[1::2,::2] = 1\nZ[::2,1::2] = 1\nprint(Z)",
     "language": "python",
     "metadata": {},
     "outputs": [
      {
       "output_type": "stream",
       "stream": "stdout",
       "text": "[[0 1 0 1 0 1 0 1]\n [1 0 1 0 1 0 1 0]\n [0 1 0 1 0 1 0 1]\n [1 0 1 0 1 0 1 0]\n [0 1 0 1 0 1 0 1]\n [1 0 1 0 1 0 1 0]\n [0 1 0 1 0 1 0 1]\n [1 0 1 0 1 0 1 0]]\n"
      }
     ],
     "prompt_number": 19
    },
    {
     "cell_type": "raw",
     "metadata": {},
     "source": "\nCreate a 10x10 array with random values and find the minimum and maximum values. The values range from 0 to 1."
    },
    {
     "cell_type": "code",
     "collapsed": false,
     "input": "Z = np.random.random((10,10))\nZmin, Zmax = Z.min(), Z.max()\nprint(Zmin, Zmax)",
     "language": "python",
     "metadata": {},
     "outputs": [
      {
       "output_type": "stream",
       "stream": "stdout",
       "text": "(0.0028906366617812429, 0.98281773973472786)\n"
      }
     ],
     "prompt_number": 20
    },
    {
     "cell_type": "raw",
     "metadata": {},
     "source": "\nCreate a checkerboard 8x8 matrix using the tile function"
    },
    {
     "cell_type": "code",
     "collapsed": false,
     "input": "import numpy as np\nZ = np.tile( np.array([[0,1],[1,0]]), (4,4))\nprint(Z)",
     "language": "python",
     "metadata": {},
     "outputs": [
      {
       "output_type": "stream",
       "stream": "stdout",
       "text": "[[0 1 0 1 0 1 0 1]\n [1 0 1 0 1 0 1 0]\n [0 1 0 1 0 1 0 1]\n [1 0 1 0 1 0 1 0]\n [0 1 0 1 0 1 0 1]\n [1 0 1 0 1 0 1 0]\n [0 1 0 1 0 1 0 1]\n [1 0 1 0 1 0 1 0]]\n"
      }
     ],
     "prompt_number": 21
    },
    {
     "cell_type": "raw",
     "metadata": {},
     "source": "\nNormalize a 5x5 random matrix (between 0 and 1)"
    },
    {
     "cell_type": "code",
     "collapsed": false,
     "input": "import numpy as np\nZ = np.random.random((5,5))\nZmax, Zmin = Z.max(), Z.min()\nZ = (Z - Zmin)/(Zmax - Zmin)\nprint(Z)",
     "language": "python",
     "metadata": {},
     "outputs": [
      {
       "output_type": "stream",
       "stream": "stdout",
       "text": "[[ 1.          0.79774053  0.94309947  0.47000096  0.85274901]\n [ 0.02156882  0.37006168  0.13300934  0.35347259  0.70700326]\n [ 0.76992404  0.45056622  0.24642134  0.70156104  0.51679875]\n [ 0.25651498  0.80696302  0.03381095  0.          0.40578143]\n [ 0.4158215   0.11876544  0.32685517  0.19083485  0.30244104]]\n"
      }
     ],
     "prompt_number": 22
    },
    {
     "cell_type": "raw",
     "metadata": {},
     "source": "\nMultiply a 5x3 matrix by a 3x2 matrix (real matrix product)"
    },
    {
     "cell_type": "code",
     "collapsed": false,
     "input": "import numpy as np\nZ = np.dot(np.ones((5,3)), np.ones((3,2)))\nprint(Z)",
     "language": "python",
     "metadata": {},
     "outputs": [
      {
       "output_type": "stream",
       "stream": "stdout",
       "text": "[[ 3.  3.]\n [ 3.  3.]\n [ 3.  3.]\n [ 3.  3.]\n [ 3.  3.]]\n"
      }
     ],
     "prompt_number": 23
    },
    {
     "cell_type": "raw",
     "metadata": {},
     "source": "\nCreate a 5x5 matrix with row values ranging from 0 to 4"
    },
    {
     "cell_type": "code",
     "collapsed": false,
     "input": "import numpy as np\nZ = np.zeros((5,5))\nZ += np.arange(5)\nprint(Z)",
     "language": "python",
     "metadata": {},
     "outputs": [
      {
       "output_type": "stream",
       "stream": "stdout",
       "text": "[[ 0.  1.  2.  3.  4.]\n [ 0.  1.  2.  3.  4.]\n [ 0.  1.  2.  3.  4.]\n [ 0.  1.  2.  3.  4.]\n [ 0.  1.  2.  3.  4.]]\n"
      }
     ],
     "prompt_number": 24
    },
    {
     "cell_type": "raw",
     "metadata": {},
     "source": "\nCreate a vector of size 10 with values ranging from 0 to 1, both excluded"
    },
    {
     "cell_type": "code",
     "collapsed": false,
     "input": "import numpy as np\nZ = np.linspace(0,1,12,endpoint=True)[1:-1]\nprint(Z)",
     "language": "python",
     "metadata": {},
     "outputs": [
      {
       "output_type": "stream",
       "stream": "stdout",
       "text": "[ 0.09090909  0.18181818  0.27272727  0.36363636  0.45454545  0.54545455\n  0.63636364  0.72727273  0.81818182  0.90909091]\n"
      }
     ],
     "prompt_number": 25
    },
    {
     "cell_type": "raw",
     "metadata": {},
     "source": "\nCreate a random vector of size 10 and sort it from lowest value to highest value"
    },
    {
     "cell_type": "code",
     "collapsed": false,
     "input": "import numpy as np\nZ = np.random.random(10)\nZ.sort()\nprint(Z)",
     "language": "python",
     "metadata": {},
     "outputs": [
      {
       "output_type": "stream",
       "stream": "stdout",
       "text": "[ 0.02429163  0.06026726  0.2529473   0.36645947  0.40928648  0.51410871\n  0.6231977   0.66056724  0.85592692  0.94783072]\n"
      }
     ],
     "prompt_number": 26
    },
    {
     "cell_type": "raw",
     "metadata": {},
     "source": "\nConsider two random array A and B, check if they are equal."
    },
    {
     "cell_type": "code",
     "collapsed": false,
     "input": "import numpy as np\nA = np.random.randint(0,2,5)\nB = np.random.randint(0,2,5)\nequal = np.allclose(A,B)\nprint(equal)",
     "language": "python",
     "metadata": {},
     "outputs": [
      {
       "output_type": "stream",
       "stream": "stdout",
       "text": "False\n"
      }
     ],
     "prompt_number": 27
    },
    {
     "cell_type": "raw",
     "metadata": {},
     "source": "\nCreate a random vector of size 30 and find the mean value"
    },
    {
     "cell_type": "code",
     "collapsed": false,
     "input": "import numpy as np\nZ = np.random.random(30)\nm = Z.mean()\nprint(m) ",
     "language": "python",
     "metadata": {},
     "outputs": [
      {
       "output_type": "stream",
       "stream": "stdout",
       "text": "0.534588201099\n"
      }
     ],
     "prompt_number": 28
    },
    {
     "cell_type": "raw",
     "metadata": {},
     "source": "\nAnd there you have it! Hopefully you aren't feeling too overwhelmed with this crash course on matrices. Matrices become important when working with the rover's webcam because each pixel has a value and location in a similar format as a matrix. Numpy is great at organizing and processing the data so we can make use of what the rover is seeing. Continue on to the next lesson to learn more about the rover."
    },
    {
     "cell_type": "heading",
     "level": 2,
     "metadata": {},
     "source": "Section 2: Connections"
    },
    {
     "cell_type": "raw",
     "metadata": {},
     "source": "Now that you're more familiar with the functions we will be using later on, you're ready to learn how to connect to the rover. \nIf you have the proper rover on hand and want to connect to it, go to MPCR's github page, click on the LabManual folder>Intro>2_Connections. Download the rover folder and connections.py and put it in whichever folder you choose. Then turn on the rover, connect to its wifi, and open up your terminal. Navigate to the folder where you just downloaded the code, and then run \"python connections.py\". The terminal should respond by giving you the rover's battery percentage.\n\nIf you don't have a rover or want to simply read through the code, continue on. We won't be able to actually connect to the rover through this browser, but we can pretend.\n\nThis next program will make the rover tell us how much battery it has left (as a percentage)."
    },
    {
     "cell_type": "heading",
     "level": 3,
     "metadata": {},
     "source": "Need to figure out how to display the code without running it. Jupyter can't run the \"Rover\" stuff so it can't be in a \"code\" cell. It doesn't look right in a \"raw text\" cell either...\n\nalso, need to figure out how to add blank lines between code and text."
    },
    {
     "cell_type": "code",
     "collapsed": false,
     "input": "from rover import Rover\nimport time\n\n# Rover is a file created to connect this program with the physical device itself.\n#***** not sure what this means... Make sure you see it in the top left of the screen with its other programs like blowfish.\ndef main():\n    rover = Rover()  # create rover\n    bat=rover.get_battery_percentage() # Now that the rover is on and using the specific Rover class, you\n    #can type in the command for battery percentage (which can be found in the Rover class).\n    print('Battery level: %d%%' % bat) # Tell it to give you the percentage.\n    rover.close()  # close rover\n    \n# Run the program and Voila! Now you know how much energy your rover has!\n\nmain()",
     "language": "python",
     "metadata": {},
     "outputs": []
    },
    {
     "cell_type": "heading",
     "level": 2,
     "metadata": {},
     "source": "Section 3: Lights On"
    },
    {
     "cell_type": "markdown",
     "metadata": {},
     "source": "Again, we're going to continue pretending like we're connected to the rover and actually running the code.\n\nIf you *are* doing this with a physical rover, do what you did last time by downloading the folder that contains the code, but this time take it from 3_LightsOn.\n\nThis next program will allow us to turn on the rover's lights."
    },
    {
     "cell_type": "code",
     "collapsed": false,
     "input": "from rover import Rover20\nimport time\n\n\ndef main():  # defining the function called \"main()\"\n    rover = Rover20()  # redefine the module Rover20 so we can use \"rover\" instead. It makes things easier.\n\n    rover.turnLightsOn()  # turn on green lights\n    time.sleep(1)  # make the rover wait 1 second in its current state\n\n    rover.turnLightsOff()  # turn off green lights. Duh!\n    time.sleep(1)  # make the rover wait 1 second in its current state\n\n    rover.close()  # close rover\n\n\nmain()  # run the function we have just defined",
     "language": "python",
     "metadata": {},
     "outputs": []
    },
    {
     "cell_type": "heading",
     "level": 2,
     "metadata": {},
     "source": "Section 4: Lets Go"
    },
    {
     "cell_type": "raw",
     "metadata": {},
     "source": "It's time to make the rover move! The following code will teach you how to control the rover."
    },
    {
     "cell_type": "code",
     "collapsed": false,
     "input": "from rover import Rover20\nimport time\n\n\ndef main():  # create a function called \"main()\"\n\n\n    rover = Rover20()  # create rover\n\n    # The parenthesis is set up as (Left Tread, Right Tread). 1 is forwards, 0 is off, and -1 is backwards.\n    rover.setTreads(1, 1)  # forwards\n    time.sleep(1)  # wait 1 second\n\n    rover.setTreads(0, 0)  # stop\n    time.sleep(1)\n\n    rover.setTreads(-1, -1)  # backwards\n    time.sleep(1)\n\n    rover.setTreads(0, 0)\n    time.sleep(1)\n    \n\n    rover.close()  # close rover\n\n\nmain()  # Run the function we just defined. The rover will move forward for 1 second, stop for 1 second, \n        # move backward for 1 second, stop for 1 second, and then the program will end.",
     "language": "python",
     "metadata": {},
     "outputs": []
    },
    {
     "cell_type": "heading",
     "level": 2,
     "metadata": {},
     "source": "Section 5: Let Me See"
    },
    {
     "cell_type": "raw",
     "metadata": {},
     "source": "Hopefully what you've seen so far has been pretty easy. Now we're going to tie everything together. The following code makes use of the rover's camera and it will move based upon what it sees. It is certainly more challenging, but as you'll soon see it is just building off of previous ideas. If you take it piece by piece, it isn't as hard as it seems.\nThe complete code is posted below. Try looking through it on your own and see if you can figure it out yourself. Below it will be the same code except broken up into groups and with explanations.\n"
    },
    {
     "cell_type": "heading",
     "level": 4,
     "metadata": {},
     "source": "*post unaltered code and then explanations or the whole thing together?*\n*also, some questions on parts of this code*\n*There's a chance the code doesn't run as intented. Something seems off about it*"
    },
    {
     "cell_type": "code",
     "collapsed": false,
     "input": "import numpy as np\nimport scipy\nimport scipy.io as sio\nimport StringIO\nimport cv2\nimport matplotlib.pyplot as plt\nimport time\nfrom string import ascii_lowercase, ascii_uppercase\nfrom datetime import date\nfrom random import choice\n\nfrom rover import Rover20\n\n\nclass MPCR_Rover_Image(Rover20):\n    def __init__(self):\n        Rover20.__init__(self)\n        self.currentImage = None\n        self.quit = False\n        self.action_choice = 1\n        self.action_labels = ['left', 'forward', 'right', 'backward']\n        self.action_vectors = [[1, 0, 0, 0], [0, 1, 0, 0], [0, 0, 1, 0], [0, 0, 0, 1]]\n        self.data = np.ones(240 * 320 + 4)\n\n\n    def mleft(self):  # create the function that turns the rover left so it can be called later on\n        self.setTreads(-1, 1)  # set left tread in reverse and right tread forward. This rotates the rover counterclockwise, like how a tank turns.\n        time.sleep(.1)  # continue that rotating movement for 0.1 seconds\n        self.setTreads(0, 0)  # stop the rover's movement\n\n    def mforward(self):  # create the function that moves the rover forward\n        self.setTreads(1, 1)  # set both treads in the forward direction\n        time.sleep(.1)  # continue the forward movement for 0.1 seconds\n        self.setTreads(0, 0)  # stop\n\n    def mright(self):  # create the function that turns the rover right\n        self.setTreads(1, -1)  # set left tread forward and right tread in reverse\n        time.sleep(.1)  # continue that rotating movement for 0.1 seconds\n        self.setTreads(0, 0)  # stop\n\n    def mbackward(self):  # create the function that moves the rover backward\n        self.setTreads(-1, -1)  # set both treads in the reverse direction\n        time.sleep(.1)  # continue the backward movement for 0.1 seconds\n        self.setTreads(0, 0)  # stop\n\n\n    # called by Rover20, acts as main loop\n    def processVideo(self, jpegbytes, timestamp_10msec):\n        # 240,320\n\n        self.currentImage = cv2.imdecode(np.asarray(bytearray(jpegbytes), dtype=np.uint8), 0)\n\n        self.pattern = np.reshape(self.currentImage, (240 * 320))\n        # Ask the user to enter a number for a specific action. The number entered is now equal to self.action_choice\n        self.action_choice = input(\"Enter 1 for left, 2 for forward, 3 for right, 4 for reverse, 5 for save and quit)\")\n        \n        self.action_choice = self.action_choice - 1  # Subtract 1 from the value assigned to self.action_choice\n                            # this makes the value entered align with the value required for the operation (seen in lines ~72, 90-100)\n        if self.action_choice == 4: # If the user enters 5 (which will be 5-1=4), save the data and quit\n            datasave = {}\n            datasave['data'] = self.data\n            uniqueKey = ''.join(choice(ascii_lowercase + ascii_uppercase) for _ in range(5))\n            uniqueKey = 'test'\n            sio.savemat('MPCR_Rover_Images_' + uniqueKey + '.mat', datasave) # saving the data\n            print 'File Saved: MPCR_Rover_Images_' + uniqueKey + '_.mat'\n            self.quit = True # quit the program\n            return\n\n        action_pixel = np.zeros(4)\n\n        action_pixel[self.action_choice] = 1\n\n        self.pattern = np.concatenate((self.pattern, action_pixel))\n\n        self.data = np.column_stack((self.data, self.pattern))\n\n        print np.asarray(self.data).shape[1]\n\n        if self.action_choice == 0:    # If self.action_choice equals 0, run self.mleft(). We've already defined what that is,\n            self.mleft()               # so the rover turns left. If it doesn't equal 0, check the next \"elif\"\n        elif self.action_choice == 1:  # If self.action_choice equals 1, move the rover forward according \n            self.mforward()            # to the self.mforward() function. If it doesn't, check the next \"elif\".\n        elif self.action_choice == 2:  # If self.action_choice equals 2, turn the rover right.\n            self.mright()              # If it doesn't, move on and check the next \"elif\"\n        elif self.action_choice == 3:  # If self.action_choice equals 3, move the rover backward.\n            self.mbackward()\n\n\ndef main():\n    rover = MPCR_Rover_Image()\n\n    while not rover.quit:\n        pass\n\n    rover.close()\n\n\nif __name__ == '__main__':\n    main()",
     "language": "python",
     "metadata": {},
     "outputs": []
    },
    {
     "cell_type": "heading",
     "level": 2,
     "metadata": {},
     "source": "Section 6: Programming Bugs"
    },
    {
     "cell_type": "raw",
     "metadata": {},
     "source": "[CODE] Long, complex code. I tried to run it a while ago and it didn't work that well. Need to go through it again."
    }
   ],
   "metadata": {}
  }
 ]
}