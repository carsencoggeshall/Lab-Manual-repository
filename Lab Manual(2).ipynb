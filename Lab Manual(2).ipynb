{
 "metadata": {
  "name": "Lab Manual"
 },
 "nbformat": 3,
 "nbformat_minor": 0,
 "worksheets": [
  {
   "cells": [
    {
     "cell_type": "heading",
     "level": 2,
     "metadata": {},
     "source": "Welcome to MPCR's Lab Manual!"
    },
    {
     "cell_type": "raw",
     "metadata": {},
     "source": "This is a great place to get started if you want to know about the basics of python and how to operate the rover."
    },
    {
     "cell_type": "heading",
     "level": 2,
     "metadata": {},
     "source": "Section 1: Hello Git"
    },
    {
     "cell_type": "raw",
     "metadata": {},
     "source": "Let's start things off really easy. To print text in python, simply write \"print\" and then \"your text inside quotes\". Like so:"
    },
    {
     "cell_type": "code",
     "collapsed": false,
     "input": "print \"Hello World!\"",
     "language": "python",
     "metadata": {},
     "outputs": [
      {
       "output_type": "stream",
       "stream": "stdout",
       "text": "Hello World!\n"
      }
     ],
     "prompt_number": 15
    },
    {
     "cell_type": "raw",
     "metadata": {},
     "source": "To add comments within the code, use # before the text."
    },
    {
     "cell_type": "code",
     "collapsed": false,
     "input": "# this is the first comment\nspam = 1  # and this is the second comment\n  # ... and now a third!\ntext = \"# This is not a comment because it's inside quotes.\"",
     "language": "python",
     "metadata": {},
     "outputs": []
    },
    {
     "cell_type": "raw",
     "metadata": {},
     "source": "\nNow let's get familiar with the common mathematical operations used in python."
    },
    {
     "cell_type": "code",
     "collapsed": false,
     "input": "print 2 + 2         \nprint 50 - 5*6\nprint (50 - 5.0*6) / 4\nprint 8 / 5.0\nprint 17 / 3        # int / int -> int\nprint 17 / 3.0      # int / float -> float\nprint 17 // 3.0     # explicit floor division discards the fractional part\nprint 17 % 3        # the % operator returns the remainder of the division\nprint 5 * 3 + 2     # result * divisor + remainder\nprint 5 ** 2        # 5 squared\nprint 2 ** 7        # 2 to the power of 7\n",
     "language": "python",
     "metadata": {},
     "outputs": [
      {
       "output_type": "stream",
       "stream": "stdout",
       "text": "4\n20\n5.0\n1.6\n5\n5.66666666667\n5.0\n2\n17\n25\n128\n"
      }
     ],
     "prompt_number": 16
    },
    {
     "cell_type": "raw",
     "metadata": {},
     "source": "\nThe equal sign (=) is used to assign a value to a variable. Afterwards, no result is displayed before the next interactive prompt:"
    },
    {
     "cell_type": "code",
     "collapsed": false,
     "input": "width = 20\nheight = 5 * 9\nprint width * height",
     "language": "python",
     "metadata": {},
     "outputs": [
      {
       "output_type": "stream",
       "stream": "stdout",
       "text": "900\n"
      }
     ],
     "prompt_number": 17
    },
    {
     "cell_type": "code",
     "collapsed": false,
     "input": "i = 256*256\nprint 'The value of i is', i",
     "language": "python",
     "metadata": {},
     "outputs": [
      {
       "output_type": "stream",
       "stream": "stdout",
       "text": "The value of i is 65536\n"
      }
     ],
     "prompt_number": 18
    },
    {
     "cell_type": "raw",
     "metadata": {},
     "source": "\nWe're ready to make something pretty neat: the Fibonacci Sequence. In this sequence the sum of the two previous numbers equals the following number."
    },
    {
     "cell_type": "code",
     "collapsed": false,
     "input": "a, b = 0, 1   # set a = 0 and b = 1\nwhile b < 100:  # runs the indented code provided that b is less than 100\n\tprint b  # display the value of b\n        a, b = b, a+b  # a is now equal to b, and b is now equal to the sum of a and b\n\t\t       # the process is repeated, restarting with the new a and b values, until b is more than 100",
     "language": "python",
     "metadata": {},
     "outputs": [
      {
       "output_type": "stream",
       "stream": "stdout",
       "text": "1\n1\n2\n3\n5\n8\n13\n21\n34\n55\n89\n"
      }
     ],
     "prompt_number": 19
    },
    {
     "cell_type": "raw",
     "metadata": {},
     "source": "\nTime to start working with a package called \"numpy\". Numpy has other functions \u2013 ones that don't come standard with python \u2013 already defined and we can make use of them."
    },
    {
     "cell_type": "raw",
     "metadata": {},
     "source": "Import the numpy package under the name np. This makes it easier when we call a function from numpy.  "
    },
    {
     "cell_type": "code",
     "collapsed": false,
     "input": "import numpy as np",
     "language": "python",
     "metadata": {},
     "outputs": [],
     "prompt_number": 20
    },
    {
     "cell_type": "raw",
     "metadata": {},
     "source": "\nCreate a null vector of size 10."
    },
    {
     "cell_type": "code",
     "collapsed": false,
     "input": "import numpy as np\nZ = np.zeros(10)\nprint(Z)",
     "language": "python",
     "metadata": {},
     "outputs": [
      {
       "output_type": "stream",
       "stream": "stdout",
       "text": "[ 0.  0.  0.  0.  0.  0.  0.  0.  0.  0.]\n"
      }
     ],
     "prompt_number": 4
    },
    {
     "cell_type": "raw",
     "metadata": {},
     "source": "\nCreate a null vector of size 10 but the fifth value which is 1."
    },
    {
     "cell_type": "code",
     "collapsed": false,
     "input": "import numpy as np\nZ = np.zeros(10)  # begin with a null vector\nZ[4] = 1  # redefine the fifth value to be 1\nprint(Z)",
     "language": "python",
     "metadata": {},
     "outputs": [
      {
       "ename": "NameError",
       "evalue": "name 'numpy' is not defined",
       "output_type": "pyerr",
       "traceback": [
        "\u001b[0;31m---------------------------------------------------------------------------\u001b[0m\n\u001b[0;31mNameError\u001b[0m                                 Traceback (most recent call last)",
        "\u001b[0;32m<ipython-input-5-d5d58f9290cf>\u001b[0m in \u001b[0;36m<module>\u001b[0;34m()\u001b[0m\n\u001b[1;32m      1\u001b[0m \u001b[0;34m\u001b[0m\u001b[0m\n\u001b[0;32m----> 2\u001b[0;31m \u001b[0mZ\u001b[0m \u001b[0;34m=\u001b[0m \u001b[0mnumpy\u001b[0m\u001b[0;34m.\u001b[0m\u001b[0mzeros\u001b[0m\u001b[0;34m(\u001b[0m\u001b[0;36m10\u001b[0m\u001b[0;34m)\u001b[0m  \u001b[0;31m# begin with a null vector\u001b[0m\u001b[0;34m\u001b[0m\u001b[0m\n\u001b[0m\u001b[1;32m      3\u001b[0m \u001b[0mZ\u001b[0m\u001b[0;34m[\u001b[0m\u001b[0;36m4\u001b[0m\u001b[0;34m]\u001b[0m \u001b[0;34m=\u001b[0m \u001b[0;36m1\u001b[0m  \u001b[0;31m# redefine the fifth value to be 1\u001b[0m\u001b[0;34m\u001b[0m\u001b[0m\n\u001b[1;32m      4\u001b[0m \u001b[0;32mprint\u001b[0m\u001b[0;34m(\u001b[0m\u001b[0mZ\u001b[0m\u001b[0;34m)\u001b[0m\u001b[0;34m\u001b[0m\u001b[0m\n",
        "\u001b[0;31mNameError\u001b[0m: name 'numpy' is not defined"
       ]
      }
     ],
     "prompt_number": 5
    },
    {
     "cell_type": "raw",
     "metadata": {},
     "source": "\nCreate a vector with values ranging from 10 to 49."
    },
    {
     "cell_type": "code",
     "collapsed": false,
     "input": "import numpy as np\nZ = np.arange(10,50)\nprint(Z)",
     "language": "python",
     "metadata": {},
     "outputs": [
      {
       "ename": "NameError",
       "evalue": "name 'np' is not defined",
       "output_type": "pyerr",
       "traceback": [
        "\u001b[0;31m---------------------------------------------------------------------------\u001b[0m\n\u001b[0;31mNameError\u001b[0m                                 Traceback (most recent call last)",
        "\u001b[0;32m<ipython-input-2-30086fd0c0ce>\u001b[0m in \u001b[0;36m<module>\u001b[0;34m()\u001b[0m\n\u001b[0;32m----> 1\u001b[0;31m \u001b[0mZ\u001b[0m \u001b[0;34m=\u001b[0m \u001b[0mnp\u001b[0m\u001b[0;34m.\u001b[0m\u001b[0marange\u001b[0m\u001b[0;34m(\u001b[0m\u001b[0;36m10\u001b[0m\u001b[0;34m,\u001b[0m\u001b[0;36m50\u001b[0m\u001b[0;34m)\u001b[0m\u001b[0;34m\u001b[0m\u001b[0m\n\u001b[0m\u001b[1;32m      2\u001b[0m \u001b[0;32mprint\u001b[0m\u001b[0;34m(\u001b[0m\u001b[0mZ\u001b[0m\u001b[0;34m)\u001b[0m\u001b[0;34m\u001b[0m\u001b[0m\n",
        "\u001b[0;31mNameError\u001b[0m: name 'np' is not defined"
       ]
      }
     ],
     "prompt_number": 2
    },
    {
     "cell_type": "raw",
     "metadata": {},
     "source": "\nCreate a 3x3 matrix with values ranging from 0 to 8"
    },
    {
     "cell_type": "code",
     "collapsed": false,
     "input": "import numpy as np\nZ = np.arange(9).reshape(3,3)  # arrange lists the values 0 to 8\nprint(Z)\t\t               # reshape forms a new line after every 3 terms, resulting in the 3x3 matrix",
     "language": "python",
     "metadata": {},
     "outputs": [
      {
       "ename": "NameError",
       "evalue": "name 'np' is not defined",
       "output_type": "pyerr",
       "traceback": [
        "\u001b[0;31m---------------------------------------------------------------------------\u001b[0m\n\u001b[0;31mNameError\u001b[0m                                 Traceback (most recent call last)",
        "\u001b[0;32m<ipython-input-1-73738b3ccb09>\u001b[0m in \u001b[0;36m<module>\u001b[0;34m()\u001b[0m\n\u001b[0;32m----> 1\u001b[0;31m \u001b[0mZ\u001b[0m \u001b[0;34m=\u001b[0m \u001b[0mnp\u001b[0m\u001b[0;34m.\u001b[0m\u001b[0marange\u001b[0m\u001b[0;34m(\u001b[0m\u001b[0;36m9\u001b[0m\u001b[0;34m)\u001b[0m\u001b[0;34m.\u001b[0m\u001b[0mreshape\u001b[0m\u001b[0;34m(\u001b[0m\u001b[0;36m3\u001b[0m\u001b[0;34m,\u001b[0m\u001b[0;36m3\u001b[0m\u001b[0;34m)\u001b[0m  \u001b[0;31m# arrange lists the values 0 to 8\u001b[0m\u001b[0;34m\u001b[0m\u001b[0m\n\u001b[0m\u001b[1;32m      2\u001b[0m \u001b[0;32mprint\u001b[0m\u001b[0;34m(\u001b[0m\u001b[0mZ\u001b[0m\u001b[0;34m)\u001b[0m                               \u001b[0;31m# reshape forms a new line after every 3 terms, resulting in the 3x3 matrix\u001b[0m\u001b[0;34m\u001b[0m\u001b[0m\n",
        "\u001b[0;31mNameError\u001b[0m: name 'np' is not defined"
       ]
      }
     ],
     "prompt_number": 1
    },
    {
     "cell_type": "raw",
     "metadata": {},
     "source": "\nFind indices of non-zero elements from [1,2,0,0,4,0]"
    },
    {
     "cell_type": "code",
     "collapsed": false,
     "input": "import numpy as np\nnz = np.nonzero([1,2,0,0,4,0])\nprint(nz)",
     "language": "python",
     "metadata": {},
     "outputs": []
    },
    {
     "cell_type": "raw",
     "metadata": {},
     "source": "\nCreate a 3x3 identity matrix. \nIdentity matrix: a square matrix with ones on the diagonal (from top-left to bottom-right) and zeros elsewhere"
    },
    {
     "cell_type": "code",
     "collapsed": false,
     "input": "import numpy as np\nZ = np.eye(3) \nprint(Z)",
     "language": "python",
     "metadata": {},
     "outputs": [
      {
       "output_type": "stream",
       "stream": "stdout",
       "text": "[[ 1.  0.  0.]\n [ 0.  1.  0.]\n [ 0.  0.  1.]]\n"
      }
     ],
     "prompt_number": 24
    },
    {
     "cell_type": "raw",
     "metadata": {},
     "source": "\nCreate a 5x5 matrix with values 1,2,3,4 just below the diagonal"
    },
    {
     "cell_type": "code",
     "collapsed": false,
     "input": "import numpy as np\nZ = np.diag(1+np.arange(4),k=-1)\nprint(Z)",
     "language": "python",
     "metadata": {},
     "outputs": []
    },
    {
     "cell_type": "raw",
     "metadata": {},
     "source": "\nCreate a 3x3x3 array with random values"
    },
    {
     "cell_type": "code",
     "collapsed": false,
     "input": "import numpy as np\nZ = np.random.random((3,3,3))\nprint(Z)",
     "language": "python",
     "metadata": {},
     "outputs": []
    },
    {
     "cell_type": "raw",
     "metadata": {},
     "source": "\nCreate a 8x8 matrix and fill it with a checkerboard pattern"
    },
    {
     "cell_type": "code",
     "collapsed": false,
     "input": "import numpy as np\nZ = np.zeros((8,8),dtype=int)\nZ[1::2,::2] = 1\nZ[::2,1::2] = 1\nprint(Z)",
     "language": "python",
     "metadata": {},
     "outputs": []
    },
    {
     "cell_type": "raw",
     "metadata": {},
     "source": "\nCreate a 10x10 array with random values and find the minimum and maximum values. The values range from 0 to 1."
    },
    {
     "cell_type": "code",
     "collapsed": false,
     "input": "Z = np.random.random((10,10))\nZmin, Zmax = Z.min(), Z.max()\nprint(Zmin, Zmax)",
     "language": "python",
     "metadata": {},
     "outputs": [
      {
       "output_type": "stream",
       "stream": "stdout",
       "text": "(0.00049849869831375404, 0.9982961049973692)\n"
      }
     ],
     "prompt_number": 6
    },
    {
     "cell_type": "raw",
     "metadata": {},
     "source": "\nCreate a checkerboard 8x8 matrix using the tile function"
    },
    {
     "cell_type": "code",
     "collapsed": false,
     "input": "import numpy as np\nZ = np.tile( np.array([[0,1],[1,0]]), (4,4))\nprint(Z)",
     "language": "python",
     "metadata": {},
     "outputs": []
    },
    {
     "cell_type": "raw",
     "metadata": {},
     "source": "\nNormalize a 5x5 random matrix (between 0 and 1)"
    },
    {
     "cell_type": "code",
     "collapsed": false,
     "input": "import numpy as np\nZ = np.random.random((5,5))\nZmax, Zmin = Z.max(), Z.min()\nZ = (Z - Zmin)/(Zmax - Zmin)\nprint(Z)",
     "language": "python",
     "metadata": {},
     "outputs": [
      {
       "output_type": "stream",
       "stream": "stdout",
       "text": "[[ 1.          0.15909533  0.70248244  0.88790296  0.39722775]\n [ 0.77101379  0.02819639  0.14792123  0.88100658  0.        ]\n [ 0.76908268  0.58397902  0.39356074  0.1266342   0.3061138 ]\n [ 0.33146487  0.3755539   0.87739934  0.97628705  0.4776277 ]\n [ 0.06065763  0.26878142  0.15117565  0.50267451  0.57206531]]\n"
      }
     ],
     "prompt_number": 7
    },
    {
     "cell_type": "raw",
     "metadata": {},
     "source": "\nMultiply a 5x3 matrix by a 3x2 matrix (real matrix product)"
    },
    {
     "cell_type": "code",
     "collapsed": false,
     "input": "import numpy as np\nZ = np.dot(np.ones((5,3)), np.ones((3,2)))\nprint(Z)",
     "language": "python",
     "metadata": {},
     "outputs": []
    },
    {
     "cell_type": "raw",
     "metadata": {},
     "source": "\nCreate a 5x5 matrix with row values ranging from 0 to 4"
    },
    {
     "cell_type": "code",
     "collapsed": false,
     "input": "import numpy as np\nZ = np.zeros((5,5))\nZ += np.arange(5)\nprint(Z)",
     "language": "python",
     "metadata": {},
     "outputs": []
    },
    {
     "cell_type": "raw",
     "metadata": {},
     "source": "\nCreate a vector of size 10 with values ranging from 0 to 1, both excluded"
    },
    {
     "cell_type": "code",
     "collapsed": false,
     "input": "import numpy as np\nZ = np.linspace(0,1,12,endpoint=True)[1:-1]\nprint(Z)",
     "language": "python",
     "metadata": {},
     "outputs": []
    },
    {
     "cell_type": "raw",
     "metadata": {},
     "source": "\nCreate a random vector of size 10 and sort it from lowest value to highest value"
    },
    {
     "cell_type": "code",
     "collapsed": false,
     "input": "import numpy as np\nZ = np.random.random(10)\nZ.sort()\nprint(Z)",
     "language": "python",
     "metadata": {},
     "outputs": []
    },
    {
     "cell_type": "raw",
     "metadata": {},
     "source": "\nConsider two random array A anb B, check if they are equal."
    },
    {
     "cell_type": "code",
     "collapsed": false,
     "input": "import numpy as np\nA = np.random.randint(0,2,5)\nB = np.random.randint(0,2,5)\nequal = np.allclose(A,B)\nprint(equal)",
     "language": "python",
     "metadata": {},
     "outputs": []
    },
    {
     "cell_type": "raw",
     "metadata": {},
     "source": "\nCreate a random vector of size 30 and find the mean value"
    },
    {
     "cell_type": "code",
     "collapsed": false,
     "input": "import numpy as np\nZ = np.random.random(30)\nm = Z.mean()\nprint(m) ",
     "language": "python",
     "metadata": {},
     "outputs": []
    },
    {
     "cell_type": "raw",
     "metadata": {},
     "source": "\nAnd there you have it! Hopefully you aren't feeling too overwhelmed with this crash course on matrices. Matrices become important when working with the rover's webcam because each pixel has a value and location in a similar format as a matrix. Numpy is great at organizing and processing the data so we can make use of what the rover is seeing. Continue on to the next lesson to learn more about the rover."
    },
    {
     "cell_type": "heading",
     "level": 2,
     "metadata": {},
     "source": "Section 2: Connections"
    },
    {
     "cell_type": "raw",
     "metadata": {},
     "source": "Now that you're more familiar with the functions we will be using later on, you're ready to learn how to connect to the rover. \nIf you have the proper rover on hand and want to connect to it, go to MPCR's github page, click on the LabManual folder>Intro>2_Connections. Download the rover folder and connections.py and put it in whichever folder you choose. Then turn on the rover, connect to its wifi, and open up your terminal. Navigate to the folder where you just downloaded the code, and then run \"python connections.py\". The terminal should respond by giving you the rover's battery percentage.\n\nIf you don't have a rover or want to simply read through the code, continue on. We won't be able to actually connect to the rover through this browser, but we can pretend.\n\nThis next program will make the rover tell us how much battery it has left (as a percentage)."
    },
    {
     "cell_type": "code",
     "collapsed": false,
     "input": "from rover import Rover\nimport time\n\n# Rover is a file created to connect this program with the physical device itself.\n#***** not sure what this means... Make sure you see it in the top left of the screen with its other programs like blowfish.\ndef main():\n    rover = Rover()  # create rover\n    bat=rover.get_battery_percentage() # Now that the rover is on and using the specific Rover class, you\n    #can type in the command for battery percentage (which can be found in the Rover class).\n    print('Battery level: %d%%' % bat) # Tell it to give you the percentage.\n    rover.close()  # close rover\n    \n# Run the program and Voila! Now you know how much energy your rover has!\n\nmain()",
     "language": "python",
     "metadata": {},
     "outputs": []
    },
    {
     "cell_type": "heading",
     "level": 2,
     "metadata": {},
     "source": "Section 3: LightsOn"
    },
    {
     "cell_type": "markdown",
     "metadata": {},
     "source": "Again, we're going to continue pretending like we're connected to the rover and actually running the code.\n\nIf you *are* doing this with a physical rover, do what you did last time by downloading the folder that contains the code, but this time take it from 3_LightsOn.\n\nThis next program will allow us to turn on the rover's lights."
    },
    {
     "cell_type": "code",
     "collapsed": false,
     "input": "from rover import Rover20\nimport time\n\n\ndef main():  # defining the function called \"main()\"\n    rover = Rover20()  # redefine the module Rover20 so we can use \"rover\" instead. It makes things easier.\n\n    rover.turnLightsOn()  # turn on green lights\n    time.sleep(1)  # make the rover wait 1 second in its current state\n\n    rover.turnLightsOff()  # turn off green lights. Duh!\n    time.sleep(1)  # make the rover wait 1 second in its current state\n\n    rover.close()  # close rover\n\n\nmain()  # run the function we have just defined",
     "language": "python",
     "metadata": {},
     "outputs": [
      {
       "ename": "ImportError",
       "evalue": "No module named rover",
       "output_type": "pyerr",
       "traceback": [
        "\u001b[0;31m---------------------------------------------------------------------------\u001b[0m\n\u001b[0;31mImportError\u001b[0m                               Traceback (most recent call last)",
        "\u001b[0;32m<ipython-input-8-0825771ad760>\u001b[0m in \u001b[0;36m<module>\u001b[0;34m()\u001b[0m\n\u001b[0;32m----> 1\u001b[0;31m \u001b[0;32mfrom\u001b[0m \u001b[0mrover\u001b[0m \u001b[0;32mimport\u001b[0m \u001b[0mRover20\u001b[0m\u001b[0;34m\u001b[0m\u001b[0m\n\u001b[0m\u001b[1;32m      2\u001b[0m \u001b[0;32mimport\u001b[0m \u001b[0mtime\u001b[0m\u001b[0;34m\u001b[0m\u001b[0m\n\u001b[1;32m      3\u001b[0m \u001b[0;34m\u001b[0m\u001b[0m\n\u001b[1;32m      4\u001b[0m \u001b[0;34m\u001b[0m\u001b[0m\n\u001b[1;32m      5\u001b[0m \u001b[0;32mdef\u001b[0m \u001b[0mmain\u001b[0m\u001b[0;34m(\u001b[0m\u001b[0;34m)\u001b[0m\u001b[0;34m:\u001b[0m  \u001b[0;31m# defining the function called \"main()\"\u001b[0m\u001b[0;34m\u001b[0m\u001b[0m\n",
        "\u001b[0;31mImportError\u001b[0m: No module named rover"
       ]
      }
     ],
     "prompt_number": 8
    },
    {
     "cell_type": "code",
     "collapsed": false,
     "input": "",
     "language": "python",
     "metadata": {},
     "outputs": []
    }
   ],
   "metadata": {}
  }
 ]
}